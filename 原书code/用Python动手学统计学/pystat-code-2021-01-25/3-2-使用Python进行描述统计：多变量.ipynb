{
 "cells": [
  {
   "cell_type": "markdown",
   "metadata": {},
   "source": [
    "# 第 3 章　使用 Pyhton 进行数据分析｜用 Python 动手学统计学\n",
    "\n",
    "## 第 2 节　使用 Python 进行描述统计：多变量"
   ]
  },
  {
   "cell_type": "markdown",
   "metadata": {},
   "source": [
    "### 4. 多变量数据的管理"
   ]
  },
  {
   "cell_type": "code",
   "execution_count": 1,
   "metadata": {},
   "outputs": [
    {
     "data": {
      "text/plain": [
       "'%.3f'"
      ]
     },
     "execution_count": 1,
     "metadata": {},
     "output_type": "execute_result"
    }
   ],
   "source": [
    "# 用于数值计算的库\n",
    "import pandas as pd\n",
    "import scipy as sp\n",
    "\n",
    "# 设置浮点数打印精度\n",
    "%precision 3"
   ]
  },
  {
   "cell_type": "markdown",
   "metadata": {},
   "source": [
    "### 5. 实现：求各分组的统计量"
   ]
  },
  {
   "cell_type": "code",
   "execution_count": 2,
   "metadata": {},
   "outputs": [
    {
     "name": "stdout",
     "output_type": "stream",
     "text": [
      "  species  length\n",
      "0       A       2\n",
      "1       A       3\n",
      "2       A       4\n",
      "3       B       6\n",
      "4       B       8\n",
      "5       B      10\n"
     ]
    }
   ],
   "source": [
    "fish_multi = pd.read_csv(\"3-2-1-fish_multi.csv\")\n",
    "print(fish_multi)"
   ]
  },
  {
   "cell_type": "code",
   "execution_count": 3,
   "metadata": {},
   "outputs": [
    {
     "name": "stdout",
     "output_type": "stream",
     "text": [
      "         length\n",
      "species        \n",
      "A             3\n",
      "B             8\n"
     ]
    }
   ],
   "source": [
    "# 按鱼的种类计算\n",
    "group = fish_multi.groupby(\"species\")\n",
    "print(group.mean())"
   ]
  },
  {
   "cell_type": "code",
   "execution_count": 24,
   "metadata": {},
   "outputs": [
    {
     "name": "stdout",
     "output_type": "stream",
     "text": [
      "         length\n",
      "species        \n",
      "A           1.0\n",
      "B           2.0\n"
     ]
    }
   ],
   "source": [
    "print(group.std(ddof = 1))"
   ]
  },
  {
   "cell_type": "code",
   "execution_count": 25,
   "metadata": {},
   "outputs": [
    {
     "data": {
      "text/html": [
       "<div>\n",
       "<style>\n",
       "    .dataframe thead tr:only-child th {\n",
       "        text-align: right;\n",
       "    }\n",
       "\n",
       "    .dataframe thead th {\n",
       "        text-align: left;\n",
       "    }\n",
       "\n",
       "    .dataframe tbody tr th {\n",
       "        vertical-align: top;\n",
       "    }\n",
       "</style>\n",
       "<table border=\"1\" class=\"dataframe\">\n",
       "  <thead>\n",
       "    <tr>\n",
       "      <th></th>\n",
       "      <th colspan=\"8\" halign=\"left\">length</th>\n",
       "    </tr>\n",
       "    <tr>\n",
       "      <th></th>\n",
       "      <th>count</th>\n",
       "      <th>mean</th>\n",
       "      <th>std</th>\n",
       "      <th>min</th>\n",
       "      <th>25%</th>\n",
       "      <th>50%</th>\n",
       "      <th>75%</th>\n",
       "      <th>max</th>\n",
       "    </tr>\n",
       "    <tr>\n",
       "      <th>species</th>\n",
       "      <th></th>\n",
       "      <th></th>\n",
       "      <th></th>\n",
       "      <th></th>\n",
       "      <th></th>\n",
       "      <th></th>\n",
       "      <th></th>\n",
       "      <th></th>\n",
       "    </tr>\n",
       "  </thead>\n",
       "  <tbody>\n",
       "    <tr>\n",
       "      <th>A</th>\n",
       "      <td>3.0</td>\n",
       "      <td>3.0</td>\n",
       "      <td>1.0</td>\n",
       "      <td>2.0</td>\n",
       "      <td>2.5</td>\n",
       "      <td>3.0</td>\n",
       "      <td>3.5</td>\n",
       "      <td>4.0</td>\n",
       "    </tr>\n",
       "    <tr>\n",
       "      <th>B</th>\n",
       "      <td>3.0</td>\n",
       "      <td>8.0</td>\n",
       "      <td>2.0</td>\n",
       "      <td>6.0</td>\n",
       "      <td>7.0</td>\n",
       "      <td>8.0</td>\n",
       "      <td>9.0</td>\n",
       "      <td>10.0</td>\n",
       "    </tr>\n",
       "  </tbody>\n",
       "</table>\n",
       "</div>"
      ],
      "text/plain": [
       "        length                                    \n",
       "         count mean  std  min  25%  50%  75%   max\n",
       "species                                           \n",
       "A          3.0  3.0  1.0  2.0  2.5  3.0  3.5   4.0\n",
       "B          3.0  8.0  2.0  6.0  7.0  8.0  9.0  10.0"
      ]
     },
     "execution_count": 25,
     "metadata": {},
     "output_type": "execute_result"
    }
   ],
   "source": [
    "group.describe()"
   ]
  },
  {
   "cell_type": "markdown",
   "metadata": {},
   "source": [
    "### 6. 实现：列联表"
   ]
  },
  {
   "cell_type": "code",
   "execution_count": 6,
   "metadata": {},
   "outputs": [
    {
     "name": "stdout",
     "output_type": "stream",
     "text": [
      "   store color  sales\n",
      "0  tokyo  blue     10\n",
      "1  tokyo   red     15\n",
      "2  osaka  blue     13\n",
      "3  osaka   red      9\n"
     ]
    }
   ],
   "source": [
    "shoes = pd.read_csv(\"3-2-2-shoes.csv\")\n",
    "print(shoes)"
   ]
  },
  {
   "cell_type": "code",
   "execution_count": 7,
   "metadata": {},
   "outputs": [
    {
     "name": "stdout",
     "output_type": "stream",
     "text": [
      "color  blue  red\n",
      "store           \n",
      "osaka    13    9\n",
      "tokyo    10   15\n"
     ]
    }
   ],
   "source": [
    "cross = pd.pivot_table(\n",
    "    data = shoes,\n",
    "    values = \"sales\",\n",
    "    aggfunc = \"sum\",\n",
    "    index = \"store\",\n",
    "    columns = \"color\"\n",
    ")\n",
    "print(cross)"
   ]
  },
  {
   "cell_type": "markdown",
   "metadata": {},
   "source": [
    "### 9. 实现：协方差"
   ]
  },
  {
   "cell_type": "code",
   "execution_count": 8,
   "metadata": {},
   "outputs": [
    {
     "name": "stdout",
     "output_type": "stream",
     "text": [
      "      x   y\n",
      "0  18.5  34\n",
      "1  18.7  39\n",
      "2  19.1  41\n",
      "3  19.7  38\n",
      "4  21.5  45\n",
      "5  21.7  41\n",
      "6  21.8  52\n",
      "7  22.0  44\n",
      "8  23.4  44\n",
      "9  23.8  49\n"
     ]
    }
   ],
   "source": [
    "cov_data = pd.read_csv(\"3-2-3-cov.csv\")\n",
    "print(cov_data)"
   ]
  },
  {
   "cell_type": "code",
   "execution_count": 9,
   "metadata": {
    "collapsed": true
   },
   "outputs": [],
   "source": [
    "# 读取数据的列\n",
    "x = cov_data[\"x\"]\n",
    "y = cov_data[\"y\"]\n",
    "\n",
    "# 求样本容量\n",
    "N = len(cov_data)\n",
    "\n",
    "# 求各变量均值\n",
    "mu_x = sp.mean(x)\n",
    "mu_y = sp.mean(y)"
   ]
  },
  {
   "cell_type": "code",
   "execution_count": 10,
   "metadata": {},
   "outputs": [
    {
     "data": {
      "text/plain": [
       "6.906"
      ]
     },
     "execution_count": 10,
     "metadata": {},
     "output_type": "execute_result"
    }
   ],
   "source": [
    "# 样本协方差\n",
    "cov_sample = sum((x - mu_x) * (y - mu_y)) / N\n",
    "cov_sample"
   ]
  },
  {
   "cell_type": "code",
   "execution_count": 11,
   "metadata": {},
   "outputs": [
    {
     "data": {
      "text/plain": [
       "7.673"
      ]
     },
     "execution_count": 11,
     "metadata": {},
     "output_type": "execute_result"
    }
   ],
   "source": [
    "# 协方差\n",
    "cov = sum((x - mu_x) * (y - mu_y)) / (N - 1)\n",
    "cov"
   ]
  },
  {
   "cell_type": "markdown",
   "metadata": {
    "collapsed": true
   },
   "source": [
    "### 10. 实现：协方差矩阵"
   ]
  },
  {
   "cell_type": "code",
   "execution_count": 12,
   "metadata": {},
   "outputs": [
    {
     "data": {
      "text/plain": [
       "array([[  3.282,   6.906],\n",
       "       [  6.906,  25.21 ]])"
      ]
     },
     "execution_count": 12,
     "metadata": {},
     "output_type": "execute_result"
    }
   ],
   "source": [
    "# 样本协方差\n",
    "sp.cov(x, y, ddof = 0)"
   ]
  },
  {
   "cell_type": "code",
   "execution_count": 13,
   "metadata": {},
   "outputs": [
    {
     "data": {
      "text/plain": [
       "array([[  3.646,   7.673],\n",
       "       [  7.673,  28.011]])"
      ]
     },
     "execution_count": 13,
     "metadata": {},
     "output_type": "execute_result"
    }
   ],
   "source": [
    "# 无偏协方差\n",
    "sp.cov(x, y, ddof = 1)"
   ]
  },
  {
   "cell_type": "markdown",
   "metadata": {
    "collapsed": true
   },
   "source": [
    "### 13. 实现：皮尔逊积矩相关系数"
   ]
  },
  {
   "cell_type": "code",
   "execution_count": 14,
   "metadata": {},
   "outputs": [
    {
     "data": {
      "text/plain": [
       "0.759"
      ]
     },
     "execution_count": 14,
     "metadata": {},
     "output_type": "execute_result"
    }
   ],
   "source": [
    "# 计算两个变量的方差\n",
    "sigma_2_x = sp.var(x, ddof = 1)\n",
    "sigma_2_y = sp.var(y, ddof = 1)\n",
    "\n",
    "# 计算相关系数\n",
    "rho = cov / sp.sqrt(sigma_2_x * sigma_2_y)\n",
    "rho"
   ]
  },
  {
   "cell_type": "code",
   "execution_count": 15,
   "metadata": {},
   "outputs": [
    {
     "data": {
      "text/plain": [
       "0.759"
      ]
     },
     "execution_count": 15,
     "metadata": {},
     "output_type": "execute_result"
    }
   ],
   "source": [
    "# 计算两个变量的方差\n",
    "sigma_2_x_sample = sp.var(x, ddof = 0)\n",
    "sigma_2_y_sample = sp.var(y, ddof = 0)\n",
    "\n",
    "# 计算相关系数\n",
    "cov_sample / sp.sqrt(sigma_2_x_sample * sigma_2_y_sample)"
   ]
  },
  {
   "cell_type": "code",
   "execution_count": 16,
   "metadata": {},
   "outputs": [
    {
     "data": {
      "text/plain": [
       "array([[ 1.   ,  0.759],\n",
       "       [ 0.759,  1.   ]])"
      ]
     },
     "execution_count": 16,
     "metadata": {},
     "output_type": "execute_result"
    }
   ],
   "source": [
    "# 相关矩阵\n",
    "sp.corrcoef(x, y)"
   ]
  },
  {
   "cell_type": "code",
   "execution_count": null,
   "metadata": {
    "collapsed": true
   },
   "outputs": [],
   "source": []
  }
 ],
 "metadata": {
  "kernelspec": {
   "display_name": "Python 3",
   "language": "python",
   "name": "python3"
  },
  "language_info": {
   "codemirror_mode": {
    "name": "ipython",
    "version": 3
   },
   "file_extension": ".py",
   "mimetype": "text/x-python",
   "name": "python",
   "nbconvert_exporter": "python",
   "pygments_lexer": "ipython3",
   "version": "3.8.2"
  }
 },
 "nbformat": 4,
 "nbformat_minor": 2
}
