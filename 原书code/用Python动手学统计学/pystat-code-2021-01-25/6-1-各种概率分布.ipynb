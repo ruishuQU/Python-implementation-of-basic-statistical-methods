{
 "cells": [
  {
   "cell_type": "markdown",
   "metadata": {},
   "source": [
    "# 第 6 章　广义线性模型｜用 Python 动手学统计学\n",
    "\n",
    "## 第 1 节　各种概率分布"
   ]
  },
  {
   "cell_type": "markdown",
   "metadata": {},
   "source": [
    "### 8. 环境准备"
   ]
  },
  {
   "cell_type": "code",
   "execution_count": 1,
   "metadata": {
    "collapsed": true,
    "scrolled": true
   },
   "outputs": [],
   "source": [
    "# 用于数值计算的库\n",
    "import numpy as np\n",
    "import pandas as pd\n",
    "import scipy as sp\n",
    "from scipy import stats\n",
    "\n",
    "# 用于绘图的库\n",
    "from matplotlib import pyplot as plt\n",
    "import seaborn as sns\n",
    "sns.set()\n",
    "\n",
    "# 设置浮点数打印精度\n",
    "%precision 3\n",
    "# 在 Jupyter Notebook 里显示图形\n",
    "%matplotlib inline"
   ]
  },
  {
   "cell_type": "markdown",
   "metadata": {},
   "source": [
    "### 9. 实现：二项分布"
   ]
  },
  {
   "cell_type": "code",
   "execution_count": 2,
   "metadata": {
    "scrolled": true
   },
   "outputs": [
    {
     "data": {
      "text/plain": [
       "0.500"
      ]
     },
     "execution_count": 2,
     "metadata": {},
     "output_type": "execute_result"
    }
   ],
   "source": [
    "# 二项分布的概率质量函数\n",
    "sp.stats.binom.pmf(k = 1, n = 2, p = 0.5)"
   ]
  },
  {
   "cell_type": "code",
   "execution_count": 3,
   "metadata": {},
   "outputs": [
    {
     "data": {
      "text/plain": [
       "array([2, 3, 0, 1, 1])"
      ]
     },
     "execution_count": 3,
     "metadata": {},
     "output_type": "execute_result"
    }
   ],
   "source": [
    "# 从 N = 10, p = 0.5 的二项分布中生成随机数\n",
    "np.random.seed(1)\n",
    "sp.stats.binom.rvs(n = 10, p = 0.2, size = 5)"
   ]
  },
  {
   "cell_type": "code",
   "execution_count": 2,
   "metadata": {},
   "outputs": [
    {
     "data": {
      "text/plain": [
       "[<matplotlib.lines.Line2D at 0x225d443d3c8>]"
      ]
     },
     "execution_count": 2,
     "metadata": {},
     "output_type": "execute_result"
    },
    {
     "data": {
      "image/png": "[encoded data removed]",
      "text/plain": [
       "<matplotlib.figure.Figure at 0x225d7046198>"
      ]
     },
     "metadata": {},
     "output_type": "display_data"
    }
   ],
   "source": [
    "# N = 10, p = 0.2 的二项分布\n",
    "binomial = sp.stats.binom(n = 10, p = 0.2)\n",
    "\n",
    "# 生成随机数\n",
    "np.random.seed(1)\n",
    "rvs_binomial = binomial.rvs(size = 10000)\n",
    "\n",
    "# 概率质量函数\n",
    "m = np.arange(0,10,1)\n",
    "pmf_binomial = binomial.pmf(k = m)\n",
    "\n",
    "# 绘制出样本直方图与概率质量函数\n",
    "sns.distplot(rvs_binomial, bins = m, kde = False, \n",
    "             norm_hist = True, color = 'gray')\n",
    "plt.plot(m, pmf_binomial, color = 'black')"
   ]
  },
  {
   "cell_type": "markdown",
   "metadata": {},
   "source": [
    "### 14. 实现：泊松分布"
   ]
  },
  {
   "cell_type": "code",
   "execution_count": 5,
   "metadata": {
    "scrolled": true
   },
   "outputs": [
    {
     "data": {
      "text/plain": [
       "0.084"
      ]
     },
     "execution_count": 5,
     "metadata": {},
     "output_type": "execute_result"
    }
   ],
   "source": [
    "# 泊松分布的概率质量函数\n",
    "sp.stats.poisson.pmf(k = 2, mu = 5)"
   ]
  },
  {
   "cell_type": "code",
   "execution_count": 12,
   "metadata": {},
   "outputs": [
    {
     "data": {
      "text/plain": [
       "array([2, 1, 0, 1, 2])"
      ]
     },
     "execution_count": 12,
     "metadata": {},
     "output_type": "execute_result"
    }
   ],
   "source": [
    "# 从 λ = 2 的泊松分布中生成随机数\n",
    "np.random.seed(1)\n",
    "sp.stats.poisson.rvs(mu = 2, size = 5)"
   ]
  },
  {
   "cell_type": "code",
   "execution_count": 3,
   "metadata": {},
   "outputs": [
    {
     "data": {
      "text/plain": [
       "[<matplotlib.lines.Line2D at 0x225d70dddd8>]"
      ]
     },
     "execution_count": 3,
     "metadata": {},
     "output_type": "execute_result"
    },
    {
     "data": {
      "image/png": "[encoded data removed]",
      "text/plain": [
       "<matplotlib.figure.Figure at 0x225d7572f60>"
      ]
     },
     "metadata": {},
     "output_type": "display_data"
    }
   ],
   "source": [
    "# λ = 2 的泊松分布\n",
    "poisson = sp.stats.poisson(mu = 2)\n",
    "\n",
    "# 生成随机数\n",
    "np.random.seed(1)\n",
    "rvs_poisson = poisson.rvs(size = 10000)\n",
    "\n",
    "# 概率质量函数\n",
    "pmf_poisson = poisson.pmf(k = m)\n",
    "\n",
    "# 绘制样本直方图与概率质量函数\n",
    "sns.distplot(rvs_poisson, bins = m, kde = False, \n",
    "             norm_hist = True, color = 'gray')\n",
    "plt.plot(m, pmf_poisson, color = 'black')"
   ]
  },
  {
   "cell_type": "code",
   "execution_count": 4,
   "metadata": {},
   "outputs": [
    {
     "data": {
      "text/plain": [
       "[<matplotlib.lines.Line2D at 0x225dafdde10>]"
      ]
     },
     "execution_count": 4,
     "metadata": {},
     "output_type": "execute_result"
    },
    {
     "data": {
      "image/png": "[encoded data removed]",
      "text/plain": [
       "<matplotlib.figure.Figure at 0x225daf27a90>"
      ]
     },
     "metadata": {},
     "output_type": "display_data"
    }
   ],
   "source": [
    "# N 非常大但 p 非常小的二项分布\n",
    "N = 100000000\n",
    "p = 0.00000002\n",
    "binomial_2 = sp.stats.binom(n = N, p = p)\n",
    "\n",
    "# 概率质量函数\n",
    "pmf_binomial_2 = binomial_2.pmf(k = m)\n",
    "\n",
    "# 绘制概率质量函数\n",
    "plt.plot(m, pmf_poisson, color = 'gray')\n",
    "plt.plot(m, pmf_binomial_2, color = 'black', \n",
    "         linestyle = 'dotted')"
   ]
  },
  {
   "cell_type": "code",
   "execution_count": null,
   "metadata": {
    "collapsed": true
   },
   "outputs": [],
   "source": []
  }
 ],
 "metadata": {
  "kernelspec": {
   "display_name": "Python 3",
   "language": "python",
   "name": "python3"
  },
  "language_info": {
   "codemirror_mode": {
    "name": "ipython",
    "version": 3
   },
   "file_extension": ".py",
   "mimetype": "text/x-python",
   "name": "python",
   "nbconvert_exporter": "python",
   "pygments_lexer": "ipython3",
   "version": "3.8.2"
  }
 },
 "nbformat": 4,
 "nbformat_minor": 2
}
