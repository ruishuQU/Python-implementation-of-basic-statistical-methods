{
 "cells": [
  {
   "cell_type": "markdown",
   "metadata": {},
   "source": [
    "# 第 2 章　Python 与 Jupyter Notebook 基础｜用 Python 动手学统计学\n",
    "\n",
    "## 第 4 节　认识 numpy 与 pandas"
   ]
  },
  {
   "cell_type": "markdown",
   "metadata": {},
   "source": [
    "### 1. 导入用于分析的功能"
   ]
  },
  {
   "cell_type": "code",
   "execution_count": 1,
   "metadata": {
    "collapsed": true
   },
   "outputs": [],
   "source": [
    "import numpy as np\n",
    "import pandas as pd"
   ]
  },
  {
   "cell_type": "markdown",
   "metadata": {},
   "source": [
    "### 3. 实现：列表"
   ]
  },
  {
   "cell_type": "code",
   "execution_count": 2,
   "metadata": {},
   "outputs": [
    {
     "data": {
      "text/plain": [
       "[1, 2, 3, 4, 5]"
      ]
     },
     "execution_count": 2,
     "metadata": {},
     "output_type": "execute_result"
    }
   ],
   "source": [
    "sample_list = [1,2,3,4,5]\n",
    "sample_list"
   ]
  },
  {
   "cell_type": "markdown",
   "metadata": {},
   "source": [
    "### 5. 实现：数组"
   ]
  },
  {
   "cell_type": "code",
   "execution_count": 3,
   "metadata": {},
   "outputs": [
    {
     "data": {
      "text/plain": [
       "array([1, 2, 3, 4, 5])"
      ]
     },
     "execution_count": 3,
     "metadata": {},
     "output_type": "execute_result"
    }
   ],
   "source": [
    "sample_array = np.array([1,2,3,4,5])\n",
    "sample_array"
   ]
  },
  {
   "cell_type": "code",
   "execution_count": 4,
   "metadata": {},
   "outputs": [
    {
     "data": {
      "text/plain": [
       "array([3, 4, 5, 6, 7])"
      ]
     },
     "execution_count": 4,
     "metadata": {},
     "output_type": "execute_result"
    }
   ],
   "source": [
    "sample_array + 2"
   ]
  },
  {
   "cell_type": "code",
   "execution_count": 5,
   "metadata": {},
   "outputs": [
    {
     "data": {
      "text/plain": [
       "array([ 2,  4,  6,  8, 10])"
      ]
     },
     "execution_count": 5,
     "metadata": {},
     "output_type": "execute_result"
    }
   ],
   "source": [
    "sample_array * 2"
   ]
  },
  {
   "cell_type": "code",
   "execution_count": 6,
   "metadata": {},
   "outputs": [
    {
     "data": {
      "text/plain": [
       "array(['1', '2', 'A'],\n",
       "      dtype='<U11')"
      ]
     },
     "execution_count": 6,
     "metadata": {},
     "output_type": "execute_result"
    }
   ],
   "source": [
    "np.array([1 ,2, \"A\"])"
   ]
  },
  {
   "cell_type": "code",
   "execution_count": 20,
   "metadata": {},
   "outputs": [
    {
     "data": {
      "text/plain": [
       "array([[ 1,  2,  3,  4,  5],\n",
       "       [ 6,  7,  8,  9, 10]])"
      ]
     },
     "execution_count": 20,
     "metadata": {},
     "output_type": "execute_result"
    }
   ],
   "source": [
    "# 矩阵\n",
    "sample_array_2 = np.array(\n",
    "    [[1,2,3,4,5],\n",
    "     [6,7,8,9,10]])\n",
    "sample_array_2"
   ]
  },
  {
   "cell_type": "code",
   "execution_count": 21,
   "metadata": {},
   "outputs": [
    {
     "data": {
      "text/plain": [
       "(2, 5)"
      ]
     },
     "execution_count": 21,
     "metadata": {},
     "output_type": "execute_result"
    }
   ],
   "source": [
    "# 获取行数与列数\n",
    "sample_array_2.shape"
   ]
  },
  {
   "cell_type": "markdown",
   "metadata": {},
   "source": [
    "### 6. 实现：生成等差数列的方法"
   ]
  },
  {
   "cell_type": "code",
   "execution_count": 8,
   "metadata": {},
   "outputs": [
    {
     "data": {
      "text/plain": [
       "array([1, 2, 3, 4, 5])"
      ]
     },
     "execution_count": 8,
     "metadata": {},
     "output_type": "execute_result"
    }
   ],
   "source": [
    "np.arange(start = 1, stop = 6, step = 1)"
   ]
  },
  {
   "cell_type": "code",
   "execution_count": 9,
   "metadata": {},
   "outputs": [
    {
     "data": {
      "text/plain": [
       "array([ 0.1,  0.3,  0.5,  0.7])"
      ]
     },
     "execution_count": 9,
     "metadata": {},
     "output_type": "execute_result"
    }
   ],
   "source": [
    "np.arange(start = 0.1, stop = 0.8, step = 0.2)"
   ]
  },
  {
   "cell_type": "code",
   "execution_count": 10,
   "metadata": {},
   "outputs": [
    {
     "data": {
      "text/plain": [
       "array([ 0.1,  0.3,  0.5,  0.7])"
      ]
     },
     "execution_count": 10,
     "metadata": {},
     "output_type": "execute_result"
    }
   ],
   "source": [
    "np.arange(0.1, 0.8, 0.2)"
   ]
  },
  {
   "cell_type": "markdown",
   "metadata": {},
   "source": [
    "### 7. 实现：多种生成数组的方式"
   ]
  },
  {
   "cell_type": "code",
   "execution_count": 11,
   "metadata": {},
   "outputs": [
    {
     "data": {
      "text/plain": [
       "array(['A', 'A', 'A', 'A', 'A'],\n",
       "      dtype='<U1')"
      ]
     },
     "execution_count": 11,
     "metadata": {},
     "output_type": "execute_result"
    }
   ],
   "source": [
    "# 元素相同的数组\n",
    "np.tile(\"A\", 5)"
   ]
  },
  {
   "cell_type": "code",
   "execution_count": 12,
   "metadata": {},
   "outputs": [
    {
     "data": {
      "text/plain": [
       "array([0, 0, 0, 0])"
      ]
     },
     "execution_count": 12,
     "metadata": {},
     "output_type": "execute_result"
    }
   ],
   "source": [
    "# 存放 4 个 0\n",
    "np.tile(0, 4)"
   ]
  },
  {
   "cell_type": "code",
   "execution_count": 13,
   "metadata": {},
   "outputs": [
    {
     "data": {
      "text/plain": [
       "array([ 0.,  0.,  0.,  0.])"
      ]
     },
     "execution_count": 13,
     "metadata": {},
     "output_type": "execute_result"
    }
   ],
   "source": [
    "# 只有 0 的数组\n",
    "np.zeros(4)"
   ]
  },
  {
   "cell_type": "code",
   "execution_count": 14,
   "metadata": {},
   "outputs": [
    {
     "data": {
      "text/plain": [
       "array([[ 0.,  0.,  0.],\n",
       "       [ 0.,  0.,  0.]])"
      ]
     },
     "execution_count": 14,
     "metadata": {},
     "output_type": "execute_result"
    }
   ],
   "source": [
    "# 二维数组\n",
    "np.zeros([2,3])"
   ]
  },
  {
   "cell_type": "code",
   "execution_count": 15,
   "metadata": {},
   "outputs": [
    {
     "data": {
      "text/plain": [
       "array([ 1.,  1.,  1.])"
      ]
     },
     "execution_count": 15,
     "metadata": {},
     "output_type": "execute_result"
    }
   ],
   "source": [
    "# 只有 1 的数组\n",
    "np.ones(3)"
   ]
  },
  {
   "cell_type": "markdown",
   "metadata": {},
   "source": [
    "### 8. 实现：切片"
   ]
  },
  {
   "cell_type": "code",
   "execution_count": 19,
   "metadata": {},
   "outputs": [
    {
     "data": {
      "text/plain": [
       "array([1, 2, 3, 4, 5])"
      ]
     },
     "execution_count": 19,
     "metadata": {},
     "output_type": "execute_result"
    }
   ],
   "source": [
    "# 一维数组\n",
    "d1_array = np.array([1,2,3,4,5])\n",
    "d1_array"
   ]
  },
  {
   "cell_type": "code",
   "execution_count": 17,
   "metadata": {},
   "outputs": [
    {
     "data": {
      "text/plain": [
       "1"
      ]
     },
     "execution_count": 17,
     "metadata": {},
     "output_type": "execute_result"
    }
   ],
   "source": [
    "# 取得第一个元素\n",
    "d1_array[0]"
   ]
  },
  {
   "cell_type": "code",
   "execution_count": 18,
   "metadata": {},
   "outputs": [
    {
     "data": {
      "text/plain": [
       "array([2, 3])"
      ]
     },
     "execution_count": 18,
     "metadata": {},
     "output_type": "execute_result"
    }
   ],
   "source": [
    "# 获取索引中的 1 号和 2 号元素\n",
    "d1_array[1:3]"
   ]
  },
  {
   "cell_type": "code",
   "execution_count": 17,
   "metadata": {},
   "outputs": [
    {
     "data": {
      "text/plain": [
       "array([[ 1,  2,  3,  4,  5],\n",
       "       [ 6,  7,  8,  9, 10]])"
      ]
     },
     "execution_count": 17,
     "metadata": {},
     "output_type": "execute_result"
    }
   ],
   "source": [
    "# 二维数组\n",
    "d2_array = np.array(\n",
    "    [[1,2,3,4,5],\n",
    "    [6,7,8,9,10]])\n",
    "d2_array"
   ]
  },
  {
   "cell_type": "code",
   "execution_count": 18,
   "metadata": {},
   "outputs": [
    {
     "data": {
      "text/plain": [
       "4"
      ]
     },
     "execution_count": 18,
     "metadata": {},
     "output_type": "execute_result"
    }
   ],
   "source": [
    "d2_array[0, 3]"
   ]
  },
  {
   "cell_type": "code",
   "execution_count": 19,
   "metadata": {},
   "outputs": [
    {
     "data": {
      "text/plain": [
       "array([8, 9])"
      ]
     },
     "execution_count": 19,
     "metadata": {},
     "output_type": "execute_result"
    }
   ],
   "source": [
    "d2_array[1, 2:4]"
   ]
  },
  {
   "cell_type": "markdown",
   "metadata": {},
   "source": [
    "### 9. 实现：数据帧"
   ]
  },
  {
   "cell_type": "code",
   "execution_count": 20,
   "metadata": {},
   "outputs": [
    {
     "name": "stdout",
     "output_type": "stream",
     "text": [
      "   col1  col2 col3\n",
      "0     1     2    A\n",
      "1     2     4    B\n",
      "2     3     6    C\n",
      "3     4     8    D\n",
      "4     5    10    E\n"
     ]
    }
   ],
   "source": [
    "sample_df = pd.DataFrame({\n",
    "    'col1' : sample_array, \n",
    "    'col2' : sample_array * 2,\n",
    "    'col3' : [\"A\", \"B\", \"C\", \"D\", \"E\"]\n",
    "})\n",
    "print(sample_df)"
   ]
  },
  {
   "cell_type": "code",
   "execution_count": 21,
   "metadata": {},
   "outputs": [
    {
     "data": {
      "text/html": [
       "<div>\n",
       "<style>\n",
       "    .dataframe thead tr:only-child th {\n",
       "        text-align: right;\n",
       "    }\n",
       "\n",
       "    .dataframe thead th {\n",
       "        text-align: left;\n",
       "    }\n",
       "\n",
       "    .dataframe tbody tr th {\n",
       "        vertical-align: top;\n",
       "    }\n",
       "</style>\n",
       "<table border=\"1\" class=\"dataframe\">\n",
       "  <thead>\n",
       "    <tr style=\"text-align: right;\">\n",
       "      <th></th>\n",
       "      <th>col1</th>\n",
       "      <th>col2</th>\n",
       "      <th>col3</th>\n",
       "    </tr>\n",
       "  </thead>\n",
       "  <tbody>\n",
       "    <tr>\n",
       "      <th>0</th>\n",
       "      <td>1</td>\n",
       "      <td>2</td>\n",
       "      <td>A</td>\n",
       "    </tr>\n",
       "    <tr>\n",
       "      <th>1</th>\n",
       "      <td>2</td>\n",
       "      <td>4</td>\n",
       "      <td>B</td>\n",
       "    </tr>\n",
       "    <tr>\n",
       "      <th>2</th>\n",
       "      <td>3</td>\n",
       "      <td>6</td>\n",
       "      <td>C</td>\n",
       "    </tr>\n",
       "    <tr>\n",
       "      <th>3</th>\n",
       "      <td>4</td>\n",
       "      <td>8</td>\n",
       "      <td>D</td>\n",
       "    </tr>\n",
       "    <tr>\n",
       "      <th>4</th>\n",
       "      <td>5</td>\n",
       "      <td>10</td>\n",
       "      <td>E</td>\n",
       "    </tr>\n",
       "  </tbody>\n",
       "</table>\n",
       "</div>"
      ],
      "text/plain": [
       "   col1  col2 col3\n",
       "0     1     2    A\n",
       "1     2     4    B\n",
       "2     3     6    C\n",
       "3     4     8    D\n",
       "4     5    10    E"
      ]
     },
     "execution_count": 21,
     "metadata": {},
     "output_type": "execute_result"
    }
   ],
   "source": [
    "sample_df"
   ]
  },
  {
   "cell_type": "markdown",
   "metadata": {},
   "source": [
    "### 10. 实现：读取文件中的数据"
   ]
  },
  {
   "cell_type": "code",
   "execution_count": 22,
   "metadata": {},
   "outputs": [
    {
     "name": "stdout",
     "output_type": "stream",
     "text": [
      "   col1 col2\n",
      "0     1    A\n",
      "1     2    A\n",
      "2     3    B\n",
      "3     4    B\n",
      "4     5    C\n",
      "5     6    C\n"
     ]
    }
   ],
   "source": [
    "file_data = pd.read_csv(\"2-4-1-sample_data.csv\")\n",
    "print(file_data)"
   ]
  },
  {
   "cell_type": "code",
   "execution_count": 23,
   "metadata": {},
   "outputs": [
    {
     "data": {
      "text/plain": [
       "pandas.core.frame.DataFrame"
      ]
     },
     "execution_count": 23,
     "metadata": {},
     "output_type": "execute_result"
    }
   ],
   "source": [
    "type(file_data)"
   ]
  },
  {
   "cell_type": "markdown",
   "metadata": {},
   "source": [
    "### 11. 实现：连接数据帧"
   ]
  },
  {
   "cell_type": "code",
   "execution_count": 24,
   "metadata": {
    "collapsed": true
   },
   "outputs": [],
   "source": [
    "df_1 = pd.DataFrame({\n",
    "    'col1' : np.array([1, 2, 3]),\n",
    "    'col2' : np.array([\"A\", \"B\", \"C\"])\n",
    "})\n",
    "df_2 = pd.DataFrame({\n",
    "    'col1' : np.array([4, 5, 6]),\n",
    "    'col2' : np.array([\"D\", \"E\", \"F\"])\n",
    "})"
   ]
  },
  {
   "cell_type": "code",
   "execution_count": 25,
   "metadata": {},
   "outputs": [
    {
     "name": "stdout",
     "output_type": "stream",
     "text": [
      "   col1 col2\n",
      "0     1    A\n",
      "1     2    B\n",
      "2     3    C\n",
      "0     4    D\n",
      "1     5    E\n",
      "2     6    F\n"
     ]
    }
   ],
   "source": [
    "# 在纵向上连接\n",
    "print(pd.concat([df_1, df_2]))"
   ]
  },
  {
   "cell_type": "code",
   "execution_count": 26,
   "metadata": {},
   "outputs": [
    {
     "name": "stdout",
     "output_type": "stream",
     "text": [
      "   col1 col2  col1 col2\n",
      "0     1    A     4    D\n",
      "1     2    B     5    E\n",
      "2     3    C     6    F\n"
     ]
    }
   ],
   "source": [
    "# 在横向上连接\n",
    "print(pd.concat([df_1, df_2], axis = 1))"
   ]
  },
  {
   "cell_type": "markdown",
   "metadata": {},
   "source": [
    "### 12. 实现：数据帧的列操作"
   ]
  },
  {
   "cell_type": "code",
   "execution_count": 27,
   "metadata": {},
   "outputs": [
    {
     "name": "stdout",
     "output_type": "stream",
     "text": [
      "   col1  col2 col3\n",
      "0     1     2    A\n",
      "1     2     4    B\n",
      "2     3     6    C\n",
      "3     4     8    D\n",
      "4     5    10    E\n"
     ]
    }
   ],
   "source": [
    "# 对象数据\n",
    "print(sample_df)"
   ]
  },
  {
   "cell_type": "code",
   "execution_count": 28,
   "metadata": {},
   "outputs": [
    {
     "name": "stdout",
     "output_type": "stream",
     "text": [
      "0     2\n",
      "1     4\n",
      "2     6\n",
      "3     8\n",
      "4    10\n",
      "Name: col2, dtype: int32\n"
     ]
    }
   ],
   "source": [
    "# 按列名获取数据\n",
    "print(sample_df.col2)"
   ]
  },
  {
   "cell_type": "code",
   "execution_count": 29,
   "metadata": {},
   "outputs": [
    {
     "name": "stdout",
     "output_type": "stream",
     "text": [
      "0     2\n",
      "1     4\n",
      "2     6\n",
      "3     8\n",
      "4    10\n",
      "Name: col2, dtype: int32\n"
     ]
    }
   ],
   "source": [
    "print(sample_df[\"col2\"])"
   ]
  },
  {
   "cell_type": "code",
   "execution_count": 30,
   "metadata": {},
   "outputs": [
    {
     "name": "stdout",
     "output_type": "stream",
     "text": [
      "   col2 col3\n",
      "0     2    A\n",
      "1     4    B\n",
      "2     6    C\n",
      "3     8    D\n",
      "4    10    E\n"
     ]
    }
   ],
   "source": [
    "print(sample_df[[\"col2\", \"col3\"]])"
   ]
  },
  {
   "cell_type": "code",
   "execution_count": 31,
   "metadata": {},
   "outputs": [
    {
     "name": "stdout",
     "output_type": "stream",
     "text": [
      "   col2 col3\n",
      "0     2    A\n",
      "1     4    B\n",
      "2     6    C\n",
      "3     8    D\n",
      "4    10    E\n"
     ]
    }
   ],
   "source": [
    "# 删除指定的列\n",
    "print(sample_df.drop(\"col1\", axis = 1))"
   ]
  },
  {
   "cell_type": "markdown",
   "metadata": {},
   "source": [
    "### 13. 实现：数据帧的行操作"
   ]
  },
  {
   "cell_type": "code",
   "execution_count": 32,
   "metadata": {},
   "outputs": [
    {
     "name": "stdout",
     "output_type": "stream",
     "text": [
      "   col1  col2 col3\n",
      "0     1     2    A\n",
      "1     2     4    B\n",
      "2     3     6    C\n"
     ]
    }
   ],
   "source": [
    "# 获取前 3 行\n",
    "print(sample_df.head(n = 3))"
   ]
  },
  {
   "cell_type": "code",
   "execution_count": 33,
   "metadata": {},
   "outputs": [
    {
     "name": "stdout",
     "output_type": "stream",
     "text": [
      "   col1  col2 col3\n",
      "0     1     2    A\n"
     ]
    }
   ],
   "source": [
    "# 获取第 1 行\n",
    "print(sample_df.query('index == 0'))"
   ]
  },
  {
   "cell_type": "code",
   "execution_count": 34,
   "metadata": {},
   "outputs": [
    {
     "name": "stdout",
     "output_type": "stream",
     "text": [
      "   col1  col2 col3\n",
      "0     1     2    A\n"
     ]
    }
   ],
   "source": [
    "# 通过多种条件获取数据\n",
    "print(sample_df.query('col3 == \"A\"'))"
   ]
  },
  {
   "cell_type": "code",
   "execution_count": 35,
   "metadata": {},
   "outputs": [
    {
     "name": "stdout",
     "output_type": "stream",
     "text": [
      "   col1  col2 col3\n",
      "0     1     2    A\n",
      "3     4     8    D\n"
     ]
    }
   ],
   "source": [
    "# 按 OR 条件获取数据\n",
    "print(sample_df.query('col3 == \"A\" | col3 == \"D\"'))"
   ]
  },
  {
   "cell_type": "code",
   "execution_count": 36,
   "metadata": {},
   "outputs": [
    {
     "name": "stdout",
     "output_type": "stream",
     "text": [
      "Empty DataFrame\n",
      "Columns: [col1, col2, col3]\n",
      "Index: []\n"
     ]
    }
   ],
   "source": [
    "# 按 AND 条件获取数据\n",
    "print(sample_df.query('col3 == \"A\" & col1 == 3'))"
   ]
  },
  {
   "cell_type": "code",
   "execution_count": 37,
   "metadata": {},
   "outputs": [
    {
     "name": "stdout",
     "output_type": "stream",
     "text": [
      "   col2 col3\n",
      "0     2    A\n"
     ]
    }
   ],
   "source": [
    "# 同时指定行和列的条件\n",
    "print(sample_df.query('col3 == \"A\"')[[\"col2\", \"col3\"]])"
   ]
  },
  {
   "cell_type": "markdown",
   "metadata": {},
   "source": [
    "### 14. 补充：序列"
   ]
  },
  {
   "cell_type": "code",
   "execution_count": 38,
   "metadata": {},
   "outputs": [
    {
     "data": {
      "text/plain": [
       "pandas.core.frame.DataFrame"
      ]
     },
     "execution_count": 38,
     "metadata": {},
     "output_type": "execute_result"
    }
   ],
   "source": [
    "type(sample_df)"
   ]
  },
  {
   "cell_type": "code",
   "execution_count": 39,
   "metadata": {},
   "outputs": [
    {
     "data": {
      "text/plain": [
       "pandas.core.series.Series"
      ]
     },
     "execution_count": 39,
     "metadata": {},
     "output_type": "execute_result"
    }
   ],
   "source": [
    "type(sample_df.col1)"
   ]
  },
  {
   "cell_type": "code",
   "execution_count": 40,
   "metadata": {},
   "outputs": [
    {
     "data": {
      "text/plain": [
       "numpy.ndarray"
      ]
     },
     "execution_count": 40,
     "metadata": {},
     "output_type": "execute_result"
    }
   ],
   "source": [
    "# 转换为数组\n",
    "type(np.array(sample_df.col1))"
   ]
  },
  {
   "cell_type": "code",
   "execution_count": 41,
   "metadata": {},
   "outputs": [
    {
     "data": {
      "text/plain": [
       "numpy.ndarray"
      ]
     },
     "execution_count": 41,
     "metadata": {},
     "output_type": "execute_result"
    }
   ],
   "source": [
    "type(sample_df.col1.values)"
   ]
  },
  {
   "cell_type": "markdown",
   "metadata": {},
   "source": [
    "### 15. 补充：函数文档"
   ]
  },
  {
   "cell_type": "code",
   "execution_count": 42,
   "metadata": {
    "scrolled": true
   },
   "outputs": [
    {
     "name": "stdout",
     "output_type": "stream",
     "text": [
      "Help on method query in module pandas.core.frame:\n",
      "\n",
      "query(expr, inplace=False, **kwargs) method of pandas.core.frame.DataFrame instance\n",
      "    Query the columns of a frame with a boolean expression.\n",
      "    \n",
      "    .. versionadded:: 0.13\n",
      "    \n",
      "    Parameters\n",
      "    ----------\n",
      "    expr : string\n",
      "        The query string to evaluate.  You can refer to variables\n",
      "        in the environment by prefixing them with an '@' character like\n",
      "        ``@a + b``.\n",
      "    inplace : bool\n",
      "        Whether the query should modify the data in place or return\n",
      "        a modified copy\n",
      "    \n",
      "        .. versionadded:: 0.18.0\n",
      "    \n",
      "    kwargs : dict\n",
      "        See the documentation for :func:`pandas.eval` for complete details\n",
      "        on the keyword arguments accepted by :meth:`DataFrame.query`.\n",
      "    \n",
      "    Returns\n",
      "    -------\n",
      "    q : DataFrame\n",
      "    \n",
      "    Notes\n",
      "    -----\n",
      "    The result of the evaluation of this expression is first passed to\n",
      "    :attr:`DataFrame.loc` and if that fails because of a\n",
      "    multidimensional key (e.g., a DataFrame) then the result will be passed\n",
      "    to :meth:`DataFrame.__getitem__`.\n",
      "    \n",
      "    This method uses the top-level :func:`pandas.eval` function to\n",
      "    evaluate the passed query.\n",
      "    \n",
      "    The :meth:`~pandas.DataFrame.query` method uses a slightly\n",
      "    modified Python syntax by default. For example, the ``&`` and ``|``\n",
      "    (bitwise) operators have the precedence of their boolean cousins,\n",
      "    :keyword:`and` and :keyword:`or`. This *is* syntactically valid Python,\n",
      "    however the semantics are different.\n",
      "    \n",
      "    You can change the semantics of the expression by passing the keyword\n",
      "    argument ``parser='python'``. This enforces the same semantics as\n",
      "    evaluation in Python space. Likewise, you can pass ``engine='python'``\n",
      "    to evaluate an expression using Python itself as a backend. This is not\n",
      "    recommended as it is inefficient compared to using ``numexpr`` as the\n",
      "    engine.\n",
      "    \n",
      "    The :attr:`DataFrame.index` and\n",
      "    :attr:`DataFrame.columns` attributes of the\n",
      "    :class:`~pandas.DataFrame` instance are placed in the query namespace\n",
      "    by default, which allows you to treat both the index and columns of the\n",
      "    frame as a column in the frame.\n",
      "    The identifier ``index`` is used for the frame index; you can also\n",
      "    use the name of the index to identify it in a query.\n",
      "    \n",
      "    For further details and examples see the ``query`` documentation in\n",
      "    :ref:`indexing <indexing.query>`.\n",
      "    \n",
      "    See Also\n",
      "    --------\n",
      "    pandas.eval\n",
      "    DataFrame.eval\n",
      "    \n",
      "    Examples\n",
      "    --------\n",
      "    >>> from numpy.random import randn\n",
      "    >>> from pandas import DataFrame\n",
      "    >>> df = DataFrame(randn(10, 2), columns=list('ab'))\n",
      "    >>> df.query('a > b')\n",
      "    >>> df[df.a > df.b]  # same result as the previous expression\n",
      "\n"
     ]
    }
   ],
   "source": [
    "help(sample_df.query)"
   ]
  },
  {
   "cell_type": "code",
   "execution_count": null,
   "metadata": {
    "collapsed": true
   },
   "outputs": [],
   "source": []
  }
 ],
 "metadata": {
  "kernelspec": {
   "display_name": "Python 3",
   "language": "python",
   "name": "python3"
  },
  "language_info": {
   "codemirror_mode": {
    "name": "ipython",
    "version": 3
   },
   "file_extension": ".py",
   "mimetype": "text/x-python",
   "name": "python",
   "nbconvert_exporter": "python",
   "pygments_lexer": "ipython3",
   "version": "3.8.2"
  }
 },
 "nbformat": 4,
 "nbformat_minor": 2
}
