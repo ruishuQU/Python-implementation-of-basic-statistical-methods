{
 "cells": [
  {
   "cell_type": "markdown",
   "metadata": {},
   "source": [
    "# 第 7 章　统计学与机器学习｜用 Python 动手学统计学\n",
    "\n",
    "## 第 4 节　线性模型与神经网络"
   ]
  },
  {
   "cell_type": "markdown",
   "metadata": {},
   "source": [
    "### 环境准备"
   ]
  },
  {
   "cell_type": "code",
   "execution_count": 2,
   "metadata": {},
   "outputs": [
    {
     "data": {
      "text/plain": [
       "'%.3f'"
      ]
     },
     "execution_count": 2,
     "metadata": {},
     "output_type": "execute_result"
    }
   ],
   "source": [
    "# 用于数值计算的库\n",
    "import numpy as np\n",
    "import pandas as pd\n",
    "import scipy as sp\n",
    "\n",
    "# 用于估计统计模型的库 (部分版本会有警告信息)\n",
    "import statsmodels.formula.api as smf\n",
    "import statsmodels.api as sm\n",
    "\n",
    "# 用于多层感知器的库\n",
    "from sklearn.neural_network import MLPClassifier\n",
    "\n",
    "# 导入示例数据\n",
    "from sklearn.datasets import load_iris\n",
    "\n",
    "# 区分训练集与测试集\n",
    "from sklearn.model_selection import train_test_split\n",
    "\n",
    "# 标准化数据\n",
    "from sklearn.preprocessing import StandardScaler\n",
    "\n",
    "# 设置浮点数打印精度\n",
    "%precision 3"
   ]
  },
  {
   "cell_type": "markdown",
   "metadata": {},
   "source": [
    "### 读入数据并整形"
   ]
  },
  {
   "cell_type": "code",
   "execution_count": 3,
   "metadata": {
    "collapsed": true,
    "scrolled": false
   },
   "outputs": [],
   "source": [
    "# 导入示例数据\n",
    "iris = load_iris()"
   ]
  },
  {
   "cell_type": "code",
   "execution_count": 4,
   "metadata": {},
   "outputs": [
    {
     "data": {
      "text/plain": [
       "['sepal length (cm)',\n",
       " 'sepal width (cm)',\n",
       " 'petal length (cm)',\n",
       " 'petal width (cm)']"
      ]
     },
     "execution_count": 4,
     "metadata": {},
     "output_type": "execute_result"
    }
   ],
   "source": [
    "# 解释变量的名称\n",
    "iris.feature_names"
   ]
  },
  {
   "cell_type": "code",
   "execution_count": 5,
   "metadata": {},
   "outputs": [
    {
     "data": {
      "text/plain": [
       "array(['setosa', 'versicolor', 'virginica'],\n",
       "      dtype='<U10')"
      ]
     },
     "execution_count": 5,
     "metadata": {},
     "output_type": "execute_result"
    }
   ],
   "source": [
    "# 响应变量的名称\n",
    "iris.target_names"
   ]
  },
  {
   "cell_type": "code",
   "execution_count": 6,
   "metadata": {},
   "outputs": [
    {
     "name": "stdout",
     "output_type": "stream",
     "text": [
      "解释变量行数与列数： (100, 2)\n",
      "响应变量行数与列数： (100,)\n"
     ]
    }
   ],
   "source": [
    "# 解释变量仅为萼片 (sepal)\n",
    "X = iris.data[50:150, 0:2]\n",
    "# 只取2种鸢尾花\n",
    "y = iris.target[50:150]\n",
    "\n",
    "print(\"解释变量行数与列数：\", X.shape)\n",
    "print(\"响应变量行数与列数：\", y.shape)"
   ]
  },
  {
   "cell_type": "code",
   "execution_count": 7,
   "metadata": {},
   "outputs": [
    {
     "name": "stdout",
     "output_type": "stream",
     "text": [
      "解释变量行数与列数： (75, 2)\n",
      "响应变量行数与列数： (75,)\n"
     ]
    }
   ],
   "source": [
    "# 把数据分为训练集与测试集\n",
    "X_train, X_test, y_train, y_test = train_test_split(\n",
    "    X, y, random_state = 2)\n",
    "\n",
    "print(\"解释变量行数与列数：\", X_train.shape)\n",
    "print(\"响应变量行数与列数：\", y_train.shape)"
   ]
  },
  {
   "cell_type": "markdown",
   "metadata": {},
   "source": [
    "### 实现：logistic 回归"
   ]
  },
  {
   "cell_type": "code",
   "execution_count": 12,
   "metadata": {},
   "outputs": [
    {
     "data": {
      "text/plain": [
       "array([1, 1, 2, 2, 2, 2, 1, 1, 1, 1])"
      ]
     },
     "execution_count": 12,
     "metadata": {},
     "output_type": "execute_result"
    }
   ],
   "source": [
    "# 打印响应变量\n",
    "y_train[0:10]"
   ]
  },
  {
   "cell_type": "code",
   "execution_count": 8,
   "metadata": {},
   "outputs": [
    {
     "name": "stdout",
     "output_type": "stream",
     "text": [
      "   species  sepal_len  sepal_wid\n",
      "0        0        5.7        2.8\n",
      "1        0        6.6        3.0\n",
      "2        1        6.1        3.0\n"
     ]
    }
   ],
   "source": [
    "# 数据整形\n",
    "# 解释变量的数据帧\n",
    "X_train_df = pd.DataFrame(\n",
    "    X_train, columns = [\"sepal_len\", \"sepal_wid\"])\n",
    "# 响应变量的数据帧\n",
    "y_train_df = pd.DataFrame({\"species\": y_train - 1})\n",
    "# 连接数据帧\n",
    "iris_train_df = pd.concat(\n",
    "    [y_train_df, X_train_df], axis=1)\n",
    "# 打印结果\n",
    "print(iris_train_df.head(3))"
   ]
  },
  {
   "cell_type": "code",
   "execution_count": 17,
   "metadata": {},
   "outputs": [
    {
     "name": "stdout",
     "output_type": "stream",
     "text": [
      "full 76.813\n",
      "len  76.234\n",
      "wid  92.768\n",
      "null 105.318\n"
     ]
    }
   ],
   "source": [
    "# 模型化\n",
    "# 长度与宽度模型\n",
    "logi_mod_full = smf.glm(\n",
    "    \"species ~ sepal_len + sepal_wid\", data = iris_train_df,\n",
    "    family=sm.families.Binomial()).fit()\n",
    "\n",
    "# 长度模型\n",
    "logi_mod_len = smf.glm(\n",
    "    \"species ~ sepal_len\", data = iris_train_df,\n",
    "    family=sm.families.Binomial()).fit()\n",
    "\n",
    "# 宽度模型\n",
    "logi_mod_wid = smf.glm(\n",
    "    \"species ~ sepal_wid\", data = iris_train_df,\n",
    "    family=sm.families.Binomial()).fit()\n",
    "\n",
    "# 空模型\n",
    "logi_mod_null = smf.glm(\n",
    "    \"species ~ 1\", data = iris_train_df,\n",
    "    family=sm.families.Binomial()).fit()\n",
    "\n",
    "# 对比 AIC\n",
    "print(\"full\", logi_mod_full.aic.round(3))\n",
    "print(\"len \", logi_mod_len.aic.round(3))\n",
    "print(\"wid \", logi_mod_wid.aic.round(3))\n",
    "print(\"null\", logi_mod_null.aic.round(3))"
   ]
  },
  {
   "cell_type": "code",
   "execution_count": 18,
   "metadata": {},
   "outputs": [
    {
     "data": {
      "text/html": [
       "<table class=\"simpletable\">\n",
       "<tr>\n",
       "      <td></td>         <th>coef</th>     <th>std err</th>      <th>z</th>      <th>P>|z|</th>  <th>[0.025</th>    <th>0.975]</th>  \n",
       "</tr>\n",
       "<tr>\n",
       "  <th>Intercept</th> <td>  -16.4152</td> <td>    4.000</td> <td>   -4.104</td> <td> 0.000</td> <td>  -24.256</td> <td>   -8.575</td>\n",
       "</tr>\n",
       "<tr>\n",
       "  <th>sepal_len</th> <td>    2.6478</td> <td>    0.639</td> <td>    4.142</td> <td> 0.000</td> <td>    1.395</td> <td>    3.901</td>\n",
       "</tr>\n",
       "</table>"
      ],
      "text/plain": [
       "<class 'statsmodels.iolib.table.SimpleTable'>"
      ]
     },
     "execution_count": 18,
     "metadata": {},
     "output_type": "execute_result"
    }
   ],
   "source": [
    "# 查看估计的系数等指标\n",
    "logi_mod_len.summary().tables[1]"
   ]
  },
  {
   "cell_type": "code",
   "execution_count": 24,
   "metadata": {},
   "outputs": [
    {
     "name": "stdout",
     "output_type": "stream",
     "text": [
      "训练集的命中率： 0.746666666667\n",
      "测试集的命中率： 0.68\n"
     ]
    }
   ],
   "source": [
    "# 预测精度\n",
    "# 数据整形\n",
    "X_test_df = pd.DataFrame(\n",
    "    X_test, columns = [\"sepal_len\", \"sepal_wid\"])\n",
    "\n",
    "# 拟合与预测\n",
    "logi_fit = logi_mod_len.fittedvalues.round(0)\n",
    "logi_pred = logi_mod_len.predict(X_test_df).round(0)\n",
    "\n",
    "# 正确数\n",
    "true_train = sp.sum(logi_fit == (y_train - 1))\n",
    "true_test = sp.sum(logi_pred == (y_test - 1))\n",
    "\n",
    "# 命中率\n",
    "result_train = true_train / len(y_train)\n",
    "result_test = true_test / len(y_test)\n",
    "\n",
    "# 打印结果\n",
    "print(\"训练集的命中率：\", result_train)\n",
    "print(\"测试集的命中率：\", result_test)"
   ]
  },
  {
   "cell_type": "markdown",
   "metadata": {},
   "source": [
    "### 实现：标准化"
   ]
  },
  {
   "cell_type": "code",
   "execution_count": 25,
   "metadata": {
    "collapsed": true
   },
   "outputs": [],
   "source": [
    "# 准备标准化\n",
    "scaler = StandardScaler()\n",
    "scaler.fit(X_train)\n",
    "# 标准化\n",
    "X_train_scaled = scaler.transform(X_train)\n",
    "X_test_scaled = scaler.transform(X_test)"
   ]
  },
  {
   "cell_type": "code",
   "execution_count": 26,
   "metadata": {},
   "outputs": [
    {
     "data": {
      "text/plain": [
       "array([ 1.,  1.])"
      ]
     },
     "execution_count": 26,
     "metadata": {},
     "output_type": "execute_result"
    }
   ],
   "source": [
    "sp.std(X_train_scaled, axis=0)"
   ]
  },
  {
   "cell_type": "code",
   "execution_count": 27,
   "metadata": {},
   "outputs": [
    {
     "data": {
      "text/plain": [
       "array([ 0.74 ,  0.679])"
      ]
     },
     "execution_count": 27,
     "metadata": {},
     "output_type": "execute_result"
    }
   ],
   "source": [
    "sp.std(X_test_scaled, axis=0)"
   ]
  },
  {
   "cell_type": "markdown",
   "metadata": {},
   "source": [
    "### 实现：神经网络"
   ]
  },
  {
   "cell_type": "code",
   "execution_count": 28,
   "metadata": {},
   "outputs": [
    {
     "name": "stdout",
     "output_type": "stream",
     "text": [
      "训练集的命中率： 0.893333333333\n",
      "测试集的命中率： 0.68\n"
     ]
    }
   ],
   "source": [
    "nnet = MLPClassifier(\n",
    "    hidden_layer_sizes = (100,100),\n",
    "    alpha = 0.07,\n",
    "    max_iter = 10000,\n",
    "    random_state = 0)\n",
    "nnet.fit(X_train_scaled, y_train)\n",
    "\n",
    "# 正确数\n",
    "print(\"训练集的命中率：\", nnet.score(X_train_scaled, y_train))\n",
    "print(\"测试集的命中率：\", nnet.score(X_test_scaled, y_test))"
   ]
  },
  {
   "cell_type": "code",
   "execution_count": null,
   "metadata": {
    "collapsed": true
   },
   "outputs": [],
   "source": []
  }
 ],
 "metadata": {
  "kernelspec": {
   "display_name": "Python 3",
   "language": "python",
   "name": "python3"
  },
  "language_info": {
   "codemirror_mode": {
    "name": "ipython",
    "version": 3
   },
   "file_extension": ".py",
   "mimetype": "text/x-python",
   "name": "python",
   "nbconvert_exporter": "python",
   "pygments_lexer": "ipython3",
   "version": "3.8.2"
  }
 },
 "nbformat": 4,
 "nbformat_minor": 2
}
