{
 "cells": [
  {
   "cell_type": "markdown",
   "metadata": {},
   "source": [
    "# 第 3 章　使用 Pyhton 进行数据分析｜用 Python 动手学统计学\n",
    "\n",
    "## 第 10 节　列联表检验"
   ]
  },
  {
   "cell_type": "markdown",
   "metadata": {},
   "source": [
    "### 5. 实现：计算 p 值"
   ]
  },
  {
   "cell_type": "code",
   "execution_count": 1,
   "metadata": {
    "collapsed": true
   },
   "outputs": [],
   "source": [
    "# 用于数值计算的库\n",
    "import numpy as np\n",
    "import pandas as pd\n",
    "import scipy as sp\n",
    "from scipy import stats\n",
    "\n",
    "# 用于绘图的库\n",
    "from matplotlib import pyplot as plt\n",
    "import seaborn as sns\n",
    "sns.set()\n",
    "\n",
    "# 设置浮点数打印精度\n",
    "%precision 3\n",
    "# 在 Jupyter Notebook 里显示图形\n",
    "%matplotlib inline"
   ]
  },
  {
   "cell_type": "code",
   "execution_count": 2,
   "metadata": {},
   "outputs": [
    {
     "data": {
      "text/plain": [
       "0.010"
      ]
     },
     "execution_count": 2,
     "metadata": {},
     "output_type": "execute_result"
    }
   ],
   "source": [
    "# 计算 p 值\n",
    "1 - sp.stats.chi2.cdf(x = 6.667, df = 1)"
   ]
  },
  {
   "cell_type": "markdown",
   "metadata": {},
   "source": [
    "### 6. 实现：列联表检验"
   ]
  },
  {
   "cell_type": "code",
   "execution_count": 3,
   "metadata": {
    "scrolled": true
   },
   "outputs": [
    {
     "name": "stdout",
     "output_type": "stream",
     "text": [
      "  color  click  freq\n",
      "0  blue  click    20\n",
      "1  blue    not   230\n",
      "2   red  click    10\n",
      "3   red    not    40\n"
     ]
    }
   ],
   "source": [
    "# 读入数据\n",
    "click_data = pd.read_csv(\"3-10-1-click_data.csv\")\n",
    "print(click_data)"
   ]
  },
  {
   "cell_type": "code",
   "execution_count": 4,
   "metadata": {},
   "outputs": [
    {
     "name": "stdout",
     "output_type": "stream",
     "text": [
      "click  click  not\n",
      "color            \n",
      "blue      20  230\n",
      "red       10   40\n"
     ]
    }
   ],
   "source": [
    "# 转换为列联表\n",
    "cross = pd.pivot_table(\n",
    "    data = click_data,\n",
    "    values = \"freq\",\n",
    "    aggfunc = \"sum\",\n",
    "    index = \"color\",\n",
    "    columns = \"click\"\n",
    ")\n",
    "print(cross)"
   ]
  },
  {
   "cell_type": "code",
   "execution_count": 5,
   "metadata": {},
   "outputs": [
    {
     "data": {
      "text/plain": [
       "(6.667, 0.010, 1, array([[  25.,  225.],\n",
       "        [   5.,   45.]]))"
      ]
     },
     "execution_count": 5,
     "metadata": {},
     "output_type": "execute_result"
    }
   ],
   "source": [
    "# 进行检验\n",
    "sp.stats.chi2_contingency(cross, correction = False)"
   ]
  }
 ],
 "metadata": {
  "kernelspec": {
   "display_name": "Python 3",
   "language": "python",
   "name": "python3"
  },
  "language_info": {
   "codemirror_mode": {
    "name": "ipython",
    "version": 3
   },
   "file_extension": ".py",
   "mimetype": "text/x-python",
   "name": "python",
   "nbconvert_exporter": "python",
   "pygments_lexer": "ipython3",
   "version": "3.8.2"
  }
 },
 "nbformat": 4,
 "nbformat_minor": 2
}
