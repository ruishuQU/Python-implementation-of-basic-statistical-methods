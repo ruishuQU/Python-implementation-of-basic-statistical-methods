{
 "cells": [
  {
   "cell_type": "markdown",
   "metadata": {},
   "source": [
    "# 第 6 章　广义线性模型｜用 Python 动手学统计学\n",
    "\n",
    "## 第 4 节　广义线性模型的评估"
   ]
  },
  {
   "cell_type": "markdown",
   "metadata": {},
   "source": [
    "### 1. 环境准备"
   ]
  },
  {
   "cell_type": "code",
   "execution_count": 2,
   "metadata": {
    "collapsed": true,
    "scrolled": true
   },
   "outputs": [],
   "source": [
    "# 用于数值计算的库\n",
    "import numpy as np\n",
    "import pandas as pd\n",
    "import scipy as sp\n",
    "from scipy import stats\n",
    "\n",
    "# 用于绘图的库\n",
    "from matplotlib import pyplot as plt\n",
    "import seaborn as sns\n",
    "sns.set()\n",
    "\n",
    "# 用于估计统计模型的库 (部分版本会报出警告信息)\n",
    "import statsmodels.formula.api as smf\n",
    "import statsmodels.api as sm\n",
    "\n",
    "# 设置浮点数打印精度\n",
    "%precision 3\n",
    "# 在 Jupyter Notebook 里显示图形\n",
    "%matplotlib inline\n"
   ]
  },
  {
   "cell_type": "code",
   "execution_count": 3,
   "metadata": {
    "collapsed": true
   },
   "outputs": [],
   "source": [
    "# 读取数据\n",
    "test_result = pd.read_csv(\"6-3-1-logistic-regression.csv\")\n",
    "\n",
    "# 模型化\n",
    "mod_glm = smf.glm(\"result ~ hours\", data = test_result, \n",
    "                  family=sm.families.Binomial()).fit()"
   ]
  },
  {
   "cell_type": "markdown",
   "metadata": {
    "collapsed": true
   },
   "source": [
    "### 4. 皮尔逊残差"
   ]
  },
  {
   "cell_type": "code",
   "execution_count": 4,
   "metadata": {
    "scrolled": true
   },
   "outputs": [
    {
     "data": {
      "text/plain": [
       "0   -0.102351\n",
       "1   -0.102351\n",
       "2   -0.102351\n",
       "Name: result, dtype: float64"
      ]
     },
     "execution_count": 4,
     "metadata": {},
     "output_type": "execute_result"
    }
   ],
   "source": [
    "# 计算皮尔逊残差\n",
    "\n",
    "# 预测的成功概率\n",
    "pred = mod_glm.predict()\n",
    "# 响应变量 (合格情况)\n",
    "y = test_result.result\n",
    "\n",
    "# 皮尔逊残差\n",
    "peason_resid = (y - pred) / sp.sqrt(pred * (1 - pred))\n",
    "peason_resid.head(3)"
   ]
  },
  {
   "cell_type": "code",
   "execution_count": 5,
   "metadata": {
    "scrolled": true
   },
   "outputs": [
    {
     "data": {
      "text/plain": [
       "0   -0.102351\n",
       "1   -0.102351\n",
       "2   -0.102351\n",
       "dtype: float64"
      ]
     },
     "execution_count": 5,
     "metadata": {},
     "output_type": "execute_result"
    }
   ],
   "source": [
    "# 获取皮尔逊残差\n",
    "mod_glm.resid_pearson.head(3)"
   ]
  },
  {
   "cell_type": "code",
   "execution_count": 6,
   "metadata": {},
   "outputs": [
    {
     "data": {
      "text/plain": [
       "84.911"
      ]
     },
     "execution_count": 6,
     "metadata": {},
     "output_type": "execute_result"
    }
   ],
   "source": [
    "# 皮尔逊残差的平方和\n",
    "sp.sum(mod_glm.resid_pearson**2)"
   ]
  },
  {
   "cell_type": "code",
   "execution_count": 7,
   "metadata": {},
   "outputs": [
    {
     "data": {
      "text/plain": [
       "84.911"
      ]
     },
     "execution_count": 7,
     "metadata": {},
     "output_type": "execute_result"
    }
   ],
   "source": [
    "# 同样出现在 summary 函数的结果中\n",
    "mod_glm.pearson_chi2"
   ]
  },
  {
   "cell_type": "markdown",
   "metadata": {},
   "source": [
    "### 9. 偏差残差"
   ]
  },
  {
   "cell_type": "code",
   "execution_count": 12,
   "metadata": {
    "scrolled": false
   },
   "outputs": [
    {
     "data": {
      "text/plain": [
       "0   -0.144369\n",
       "1   -0.144369\n",
       "2   -0.144369\n",
       "Name: result, dtype: float64"
      ]
     },
     "execution_count": 12,
     "metadata": {},
     "output_type": "execute_result"
    }
   ],
   "source": [
    "# 计算偏差残差\n",
    "\n",
    "# 预测的成功概率\n",
    "pred = mod_glm.predict()\n",
    "# 响应变量 (合格情况)\n",
    "y = test_result.result\n",
    "\n",
    "# 与完美预测了合格情况时的对数似然度的差值\n",
    "resid_tmp = 0 - sp.log(\n",
    "    sp.stats.binom.pmf(k = y, n = 1, p = pred))\n",
    "# 偏差残差\n",
    "deviance_resid = sp.sqrt(\n",
    "    2 * resid_tmp\n",
    ") * np.sign(y - pred)\n",
    "# 打印结果\n",
    "deviance_resid.head(3)"
   ]
  },
  {
   "cell_type": "code",
   "execution_count": 13,
   "metadata": {},
   "outputs": [
    {
     "data": {
      "text/plain": [
       "0   -0.144369\n",
       "1   -0.144369\n",
       "2   -0.144369\n",
       "dtype: float64"
      ]
     },
     "execution_count": 13,
     "metadata": {},
     "output_type": "execute_result"
    }
   ],
   "source": [
    "mod_glm.resid_deviance.head(3)"
   ]
  },
  {
   "cell_type": "code",
   "execution_count": 14,
   "metadata": {},
   "outputs": [
    {
     "data": {
      "text/plain": [
       "68.028"
      ]
     },
     "execution_count": 14,
     "metadata": {},
     "output_type": "execute_result"
    }
   ],
   "source": [
    "# deviance\n",
    "sp.sum(mod_glm.resid_deviance ** 2)"
   ]
  }
 ],
 "metadata": {
  "kernelspec": {
   "display_name": "Python 3",
   "language": "python",
   "name": "python3"
  },
  "language_info": {
   "codemirror_mode": {
    "name": "ipython",
    "version": 3
   },
   "file_extension": ".py",
   "mimetype": "text/x-python",
   "name": "python",
   "nbconvert_exporter": "python",
   "pygments_lexer": "ipython3",
   "version": "3.8.2"
  }
 },
 "nbformat": 4,
 "nbformat_minor": 2
}
